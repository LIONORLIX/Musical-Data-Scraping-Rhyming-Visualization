{
 "cells": [
  {
   "cell_type": "code",
   "execution_count": null,
   "metadata": {},
   "outputs": [],
   "source": [
    "import os\n",
    "import re\n",
    "import csv\n",
    "from pathlib import Path\n",
    "\n",
    "def convert_to_rhyme(original_file_path,count1,count2):\n",
    "    for root, _, files in os.walk(original_file_path):\n",
    "        # Go through each file \n",
    "        for file in files:\n",
    "            if file.endswith(\".txt\"):\n",
    "                # print(file)\n",
    "                with open(os.path.join(root, file), 'r', encoding='utf-8') as f:\n",
    "                    prons = f.readlines()\n",
    "                    for line in prons:\n",
    "                        line = line.strip(\"\\n\")\n",
    "                        if re.search(r\"^---.*?---$\",line):\n",
    "                            count1+=1  \n",
    "                            print(line)\n",
    "                        count2+=1\n",
    "    return count1,count2\n",
    "\n",
    "musical_url_cleaned_list = []\n",
    "none_count=0\n",
    "word_count=0\n",
    "\n",
    "musical_list_path = \"../data/raw_data_scraped/musical_list.csv\"\n",
    "with open(musical_list_path, newline='') as csv_file:\n",
    " \n",
    "    #get csv content to read the url\n",
    "    content = csv.reader(csv_file, delimiter='\\t', quotechar='\"')\n",
    "    next(content)\n",
    "\n",
    "    for row in content:\n",
    "        musical_url_cleaned_list.append(row[3])\n",
    "\n",
    "for dir_name in musical_url_cleaned_list: \n",
    "    original_file_path =  \"../data/cleaned_dataset/musicals/\"+dir_name+\"/rhyming_schemes\"\n",
    "    none_count, word_count = convert_to_rhyme(original_file_path,none_count,word_count)   \n",
    "\n",
    "print(none_count)\n",
    "print(word_count)"
   ]
  }
 ],
 "metadata": {
  "kernelspec": {
   "display_name": "nlp",
   "language": "python",
   "name": "python3"
  },
  "language_info": {
   "codemirror_mode": {
    "name": "ipython",
    "version": 3
   },
   "file_extension": ".py",
   "mimetype": "text/x-python",
   "name": "python",
   "nbconvert_exporter": "python",
   "pygments_lexer": "ipython3",
   "version": "3.9.18"
  }
 },
 "nbformat": 4,
 "nbformat_minor": 2
}
